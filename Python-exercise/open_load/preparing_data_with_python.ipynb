{
 "cells": [
  {
   "cell_type": "code",
   "execution_count": 1,
   "metadata": {},
   "outputs": [],
   "source": [
    "# Open the file in read mode\n",
    "file = open(\"employee_revenue.txt\")\n",
    "data = file.read()"
   ]
  },
  {
   "cell_type": "code",
   "execution_count": 2,
   "metadata": {},
   "outputs": [
    {
     "name": "stdout",
     "output_type": "stream",
     "text": [
      "  Ben made 300 calls and generated 2400 dollars last Month with an 8$ average deal size.  \n",
      "omer called 10 times and Sold 2 courses generated 60 dollars last month with a 6$ average deal size.\n",
      "   KAren called 500 people and achieved success by GETting 24$ average deal size, got 12000 dollars revenue.     \n",
      "Celine with 70 calls, made 2275 dollars and 32$ average deal size IN the previous month.  \n",
      "     Sue called 100 people and earned 500 Dollars in REvenue and an AVERAGE DEAL SIZE of 5$ Last month.\n",
      "Bora called 100 people generated 770 dollars last month, his average deal size was 25$.  \n",
      "Rose made 600 phone calls and GENERATING 4000 dollars a past month 25$ average deal SIZE. \n",
      "Ellen made 800 calls and generated 6000 dollars a prior mONTH and reached 40$ the average deal size. \n",
      " bob made 200 phone calls, helped to make a proGress and generated 800 dollars LAST MONTH and gaining 15$ average deal size.\n",
      "Taylor, with 450 calls generated 1200 dollars in revenue pASt month, and the average deal size was 10$. \n",
      "  JuDE made 80 calls and earned 500 dollars for the company last month, her average deal size was 12$.\n",
      "\n"
     ]
    }
   ],
   "source": [
    "# Print the data\n",
    "print(data)"
   ]
  },
  {
   "cell_type": "code",
   "execution_count": 3,
   "metadata": {},
   "outputs": [
    {
     "name": "stdout",
     "output_type": "stream",
     "text": [
      "['  Ben made 300 calls and generated 2400 dollars last Month with an 8$ average deal size.  ', 'omer called 10 times and Sold 2 courses generated 60 dollars last month with a 6$ average deal size.', '   KAren called 500 people and achieved success by GETting 24$ average deal size, got 12000 dollars revenue.     ', 'Celine with 70 calls, made 2275 dollars and 32$ average deal size IN the previous month.  ', '     Sue called 100 people and earned 500 Dollars in REvenue and an AVERAGE DEAL SIZE of 5$ Last month.', 'Bora called 100 people generated 770 dollars last month, his average deal size was 25$.  ', 'Rose made 600 phone calls and GENERATING 4000 dollars a past month 25$ average deal SIZE. ', 'Ellen made 800 calls and generated 6000 dollars a prior mONTH and reached 40$ the average deal size. ', ' bob made 200 phone calls, helped to make a proGress and generated 800 dollars LAST MONTH and gaining 15$ average deal size.', 'Taylor, with 450 calls generated 1200 dollars in revenue pASt month, and the average deal size was 10$. ', '  JuDE made 80 calls and earned 500 dollars for the company last month, her average deal size was 12$.']\n"
     ]
    }
   ],
   "source": [
    "# Seperate the data into lines\n",
    "lines = data.splitlines()\n",
    "print(lines)"
   ]
  },
  {
   "cell_type": "code",
   "execution_count": 4,
   "metadata": {},
   "outputs": [],
   "source": [
    "# Instance\n",
    "string = lines[0]"
   ]
  },
  {
   "cell_type": "code",
   "execution_count": 5,
   "metadata": {},
   "outputs": [
    {
     "name": "stdout",
     "output_type": "stream",
     "text": [
      "Ben made 300 calls and generated 2400 dollars last month with an 8$ average deal size.\n"
     ]
    }
   ],
   "source": [
    "# Remove the whitespace, convert the string lowercase and capitaliza the first character\n",
    "string = string.strip().lower().capitalize()\n",
    "print(string)"
   ]
  },
  {
   "cell_type": "code",
   "execution_count": 6,
   "metadata": {},
   "outputs": [
    {
     "name": "stdout",
     "output_type": "stream",
     "text": [
      "Ben made 300 calls and generated 2400 dollars last month with an 8$ average deal size.\n",
      "Omer called 10 times and sold 2 courses generated 60 dollars last month with a 6$ average deal size.\n",
      "Karen called 500 people and achieved success by getting 24$ average deal size, got 12000 dollars revenue.\n",
      "Celine with 70 calls, made 2275 dollars and 32$ average deal size in the previous month.\n",
      "Sue called 100 people and earned 500 dollars in revenue and an average deal size of 5$ last month.\n",
      "Bora called 100 people generated 770 dollars last month, his average deal size was 25$.\n",
      "Rose made 600 phone calls and generating 4000 dollars a past month 25$ average deal size.\n",
      "Ellen made 800 calls and generated 6000 dollars a prior month and reached 40$ the average deal size.\n",
      "Bob made 200 phone calls, helped to make a progress and generated 800 dollars last month and gaining 15$ average deal size.\n",
      "Taylor, with 450 calls generated 1200 dollars in revenue past month, and the average deal size was 10$.\n",
      "Jude made 80 calls and earned 500 dollars for the company last month, her average deal size was 12$.\n"
     ]
    }
   ],
   "source": [
    "# Apply to each line\n",
    "num_of_lines = len(lines)\n",
    "for i in range(num_of_lines):\n",
    "    lines[i] = lines[i].strip().lower().capitalize()\n",
    "# Print Lines\n",
    "for i in range(num_of_lines):\n",
    "    print(lines[i])"
   ]
  },
  {
   "cell_type": "code",
   "execution_count": 7,
   "metadata": {},
   "outputs": [
    {
     "name": "stdout",
     "output_type": "stream",
     "text": [
      "['Ben', 'made', '300', 'calls', 'and', 'generated', '2400', 'dollars', 'last', 'month', 'with', 'an', '8$', 'average', 'deal', 'size.']\n"
     ]
    }
   ],
   "source": [
    "# Extracting information from a row\n",
    "string = string.split(\" \")\n",
    "print(string)"
   ]
  },
  {
   "cell_type": "code",
   "execution_count": 8,
   "metadata": {},
   "outputs": [
    {
     "name": "stdout",
     "output_type": "stream",
     "text": [
      "Name:  Ben\n"
     ]
    }
   ],
   "source": [
    "print(\"Name: \", string[0])\n",
    "# Name is first element (for each line)"
   ]
  },
  {
   "cell_type": "code",
   "execution_count": 9,
   "metadata": {},
   "outputs": [
    {
     "name": "stdout",
     "output_type": "stream",
     "text": [
      "Call number:  300\n"
     ]
    }
   ],
   "source": [
    "print(\"Call number: \" , string[2])\n",
    "# Call number is third element (for each line)"
   ]
  },
  {
   "cell_type": "code",
   "execution_count": 10,
   "metadata": {},
   "outputs": [
    {
     "data": {
      "text/plain": [
       "'8'"
      ]
     },
     "execution_count": 10,
     "metadata": {},
     "output_type": "execute_result"
    }
   ],
   "source": [
    "# Find avarage deal size\n",
    "for i in string:\n",
    "    if \"$\" in i:\n",
    "        average_deal_size = i.split(\"$\")[0]\n",
    "average_deal_size"
   ]
  },
  {
   "cell_type": "code",
   "execution_count": 11,
   "metadata": {},
   "outputs": [
    {
     "data": {
      "text/plain": [
       "'2400'"
      ]
     },
     "execution_count": 11,
     "metadata": {},
     "output_type": "execute_result"
    }
   ],
   "source": [
    "# Find the index of elements dollars\n",
    "dollars_index = string.index(\"dollars\")\n",
    "revenue_index = dollars_index - 1\n",
    "revenue = string[revenue_index]\n",
    "revenue"
   ]
  },
  {
   "cell_type": "code",
   "execution_count": 12,
   "metadata": {},
   "outputs": [],
   "source": [
    "# Write a function and loop over the whole data\n",
    "def clean_extract(file):\n",
    "    names = []\n",
    "    call_numbers = []\n",
    "    average_deal_sizes = []\n",
    "    revenues = []\n",
    "    \n",
    "    data = file.read()\n",
    "    lines = data.splitlines()\n",
    "    \n",
    "    for employee in lines:\n",
    "        employee = employee.strip().lower().capitalize()\n",
    "        split_employee = employee.split(\" \")\n",
    "        \n",
    "        name = split_employee[0]\n",
    "        call_number = split_employee[2]\n",
    "        \n",
    "        for i in split_employee:\n",
    "            if \"$\" in i:\n",
    "                average_deal_size = i.split(\"$\")[0]\n",
    "        \n",
    "        dollars_index = split_employee.index(\"dollars\")\n",
    "        revenue_index = dollars_index - 1\n",
    "        revenue = split_employee[revenue_index]\n",
    "        \n",
    "        average_deal_size = int(average_deal_size)\n",
    "        revenue = int(revenue)\n",
    "        call_number = int(call_number)\n",
    "        \n",
    "        names.append(name)\n",
    "        call_numbers.append(call_number)\n",
    "        average_deal_sizes.append(average_deal_size)\n",
    "        revenues.append(revenue)\n",
    "    print(\"Names: \" , names)\n",
    "    print(\"Call Numbers: \" , call_numbers)\n",
    "    print(\"Average deal sizes: \" , average_deal_sizes)\n",
    "    print(\"Revenues: \" , revenues)"
   ]
  },
  {
   "cell_type": "code",
   "execution_count": 13,
   "metadata": {},
   "outputs": [
    {
     "name": "stdout",
     "output_type": "stream",
     "text": [
      "['Ben', 'Omer', 'Karen', 'Celine', 'Sue', 'Bora', 'Rose', 'Ellen', 'Bob', 'Taylor,', 'Jude']\n",
      "[300, 10, 500, 70, 100, 100, 600, 800, 200, 450, 80]\n",
      "[8, 6, 24, 32, 5, 25, 25, 40, 15, 10, 12]\n",
      "[2400, 60, 12000, 2275, 500, 770, 4000, 6000, 800, 1200, 500]\n"
     ]
    }
   ],
   "source": [
    "file = open(\"employee_revenue.txt\")\n",
    "clean_extract(file)"
   ]
  },
  {
   "cell_type": "code",
   "execution_count": null,
   "metadata": {},
   "outputs": [],
   "source": []
  }
 ],
 "metadata": {
  "kernelspec": {
   "display_name": "Python 3 (ipykernel)",
   "language": "python",
   "name": "python3"
  },
  "language_info": {
   "codemirror_mode": {
    "name": "ipython",
    "version": 3
   },
   "file_extension": ".py",
   "mimetype": "text/x-python",
   "name": "python",
   "nbconvert_exporter": "python",
   "pygments_lexer": "ipython3",
   "version": "3.9.11"
  },
  "vscode": {
   "interpreter": {
    "hash": "11ce9945abcf78c1e639532b545791fd00a318580e562a47468254d3cee18f88"
   }
  }
 },
 "nbformat": 4,
 "nbformat_minor": 2
}
